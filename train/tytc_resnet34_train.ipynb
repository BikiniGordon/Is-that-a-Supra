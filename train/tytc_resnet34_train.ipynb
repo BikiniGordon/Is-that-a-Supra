{
  "nbformat": 4,
  "nbformat_minor": 0,
  "metadata": {
    "colab": {
      "name": "tytc_resnet34_train.ipynb",
      "provenance": []
    },
    "kernelspec": {
      "name": "python3",
      "display_name": "Python 3"
    },
    "language_info": {
      "name": "python"
    }
  },
  "cells": [
    {
      "cell_type": "markdown",
      "source": [
        "# This is a source code that use to train \"Is that a Supra?!\" model\n",
        "\n",
        "This code is based on AI Builders code on how to train an image classification model with FastAI.\n",
        "\n",
        "\n",
        "*  Code: https://github.com/ai-builders/curriculum/blob/main/notebooks/04v_classification.ipynb\n",
        "*   Video: https://youtu.be/ZRLT4G48EZQ\n",
        "\n"
      ],
      "metadata": {
        "id": "xRozfoS_Hd4W"
      }
    },
    {
      "cell_type": "code",
      "execution_count": null,
      "metadata": {
        "id": "hJyFqoYME_e-"
      },
      "outputs": [],
      "source": [
        "!pip install -Uqq fastbook\n",
        "import fastbook\n",
        "fastbook.setup_book()"
      ]
    },
    {
      "cell_type": "code",
      "source": [
        "from fastbook import *"
      ],
      "metadata": {
        "id": "S-k5kKElFI3Q"
      },
      "execution_count": null,
      "outputs": []
    },
    {
      "cell_type": "code",
      "source": [
        "fields = DataBlock(\n",
        "    blocks=(ImageBlock, CategoryBlock),\n",
        "    get_items=get_image_files,\n",
        "    get_y=parent_label,\n",
        "    splitter=RandomSplitter(valid_pct=0.2, seed=42), # split data\n",
        "    item_tfms=RandomResizedCrop(224, min_scale=0.5), # images resize\n",
        "    batch_tfms=aug_transforms()\n",
        ")"
      ],
      "metadata": {
        "id": "nWXE1v9_FK5E"
      },
      "execution_count": null,
      "outputs": []
    },
    {
      "cell_type": "code",
      "source": [
        "paths = get_image_files('WORK FOLDER') # work folder that contain data"
      ],
      "metadata": {
        "id": "q80HNjvfFX8P"
      },
      "execution_count": null,
      "outputs": []
    },
    {
      "cell_type": "code",
      "source": [
        "dls = fields.dataloaders(\"WORK FOLDER\") # dataloader"
      ],
      "metadata": {
        "id": "gZucKEnqFfFa"
      },
      "execution_count": null,
      "outputs": []
    },
    {
      "cell_type": "code",
      "source": [
        "dls.train.show_batch(max_n=8, nrows=2) # check that image and data correspond or not"
      ],
      "metadata": {
        "id": "nEu0uMWzFsD4"
      },
      "execution_count": null,
      "outputs": []
    },
    {
      "cell_type": "code",
      "source": [
        "dls.vocab # check all classes"
      ],
      "metadata": {
        "id": "kVRJChQMG7fR"
      },
      "execution_count": null,
      "outputs": []
    },
    {
      "cell_type": "code",
      "source": [
        "learner = cnn_learner(dls, resnet34, metrics=[error_rate, accuracy]) # setup a learner"
      ],
      "metadata": {
        "id": "hDet3_W4HAjT"
      },
      "execution_count": null,
      "outputs": []
    },
    {
      "cell_type": "code",
      "source": [
        "learner.lr_find() # find the learning rate"
      ],
      "metadata": {
        "id": "8zWGVhpPHJKM"
      },
      "execution_count": null,
      "outputs": []
    },
    {
      "cell_type": "code",
      "source": [
        "learner.fine_tune(epochs=6, freeze_epochs=1, base_lr=0.0012) # fine tune the model for 6 epochs by freezing the first epoch"
      ],
      "metadata": {
        "id": "500tuOK9HQq8"
      },
      "execution_count": null,
      "outputs": []
    },
    {
      "cell_type": "code",
      "source": [
        "interp = ClassificationInterpretation.from_learner(learner)\n",
        "interp.plot_confusion_matrix(normalize=True, norm_dec=2, figsize=(16,16), dpi=60) # plot a confusion matrix to look at the accuracy of each classes"
      ],
      "metadata": {
        "id": "8Llwjp8xHX7g"
      },
      "execution_count": null,
      "outputs": []
    },
    {
      "cell_type": "code",
      "source": [
        "learner.show_results(shuffle=True) # see the result of the model"
      ],
      "metadata": {
        "id": "kfddKw63IKdh"
      },
      "execution_count": null,
      "outputs": []
    },
    {
      "cell_type": "code",
      "source": [
        "learner.export(\"MODEL NAME\") # save your model"
      ],
      "metadata": {
        "id": "RLQ2ajIyJ60A"
      },
      "execution_count": null,
      "outputs": []
    }
  ]
}