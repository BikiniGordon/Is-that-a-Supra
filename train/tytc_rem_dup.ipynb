{
  "nbformat": 4,
  "nbformat_minor": 0,
  "metadata": {
    "colab": {
      "name": "tytc_rem_dupe.ipynb",
      "provenance": [],
      "collapsed_sections": []
    },
    "kernelspec": {
      "name": "python3",
      "display_name": "Python 3"
    },
    "language_info": {
      "name": "python"
    }
  },
  "cells": [
    {
      "cell_type": "markdown",
      "source": [
        "# This is a source code that use to clean duplicate images from dataset for \"Is that a Supra?!\" model\n",
        "\n",
        "This code is from https://medium.com/@urvisoni/removing-duplicate-images-through-python-23c5fdc7479e"
      ],
      "metadata": {
        "id": "cv89SiFkfRkm"
      }
    },
    {
      "cell_type": "code",
      "execution_count": null,
      "metadata": {
        "colab": {
          "base_uri": "https://localhost:8080/"
        },
        "id": "Hj4SDDlx8ruU",
        "outputId": "1bffecc7-694f-4673-e36f-09496a9efa9b"
      },
      "outputs": [
        {
          "output_type": "stream",
          "name": "stdout",
          "text": [
            "Drive already mounted at /content/drive; to attempt to forcibly remount, call drive.mount(\"/content/drive\", force_remount=True).\n"
          ]
        }
      ],
      "source": [
        "from google.colab import drive\n",
        "drive.mount('/content/drive')"
      ]
    },
    {
      "cell_type": "code",
      "source": [
        "import hashlib\n",
        "\n",
        "import matplotlib.pyplot as plt\n",
        "import matplotlib.gridspec as gridspec\n",
        "%matplotlib inline\n",
        "import time\n",
        "import numpy as np"
      ],
      "metadata": {
        "id": "qTX5-fpv88ZZ"
      },
      "execution_count": null,
      "outputs": []
    },
    {
      "cell_type": "code",
      "source": [
        "from PIL import Image"
      ],
      "metadata": {
        "id": "dXbWVgnc8-g_"
      },
      "execution_count": null,
      "outputs": []
    },
    {
      "cell_type": "code",
      "source": [
        "import os"
      ],
      "metadata": {
        "id": "bVxO2kCx9B5R"
      },
      "execution_count": null,
      "outputs": []
    },
    {
      "cell_type": "code",
      "source": [
        "def file_hash(filepath): # create hash value of each images\n",
        "    with open(filepath, 'rb') as f:\n",
        "        return md5(f.read()).hexdigest()"
      ],
      "metadata": {
        "id": "JuTq-_y-9AA-"
      },
      "execution_count": null,
      "outputs": []
    },
    {
      "cell_type": "code",
      "source": [
        "os.chdir(r'/content/drive/MyDrive/Toyota_test_dataset_V2/Toyota yaris') # path you want to remove duplicates\n",
        "os.getcwd()"
      ],
      "metadata": {
        "colab": {
          "base_uri": "https://localhost:8080/",
          "height": 35
        },
        "id": "5eIqI4mE9IJv",
        "outputId": "b9bc615d-386a-4e8a-b803-19c393a74a5a"
      },
      "execution_count": null,
      "outputs": [
        {
          "output_type": "execute_result",
          "data": {
            "text/plain": [
              "'/content/drive/MyDrive/Toyota_test_dataset_V2/Toyota yaris'"
            ],
            "application/vnd.google.colaboratory.intrinsic+json": {
              "type": "string"
            }
          },
          "metadata": {},
          "execution_count": 178
        }
      ]
    },
    {
      "cell_type": "code",
      "source": [
        "os.getcwd() # check path"
      ],
      "metadata": {
        "colab": {
          "base_uri": "https://localhost:8080/",
          "height": 35
        },
        "id": "d4wfgmNH9D7q",
        "outputId": "5b49ae4d-911a-4d16-fd86-9e95bebe97a9"
      },
      "execution_count": null,
      "outputs": [
        {
          "output_type": "execute_result",
          "data": {
            "text/plain": [
              "'/content'"
            ],
            "application/vnd.google.colaboratory.intrinsic+json": {
              "type": "string"
            }
          },
          "metadata": {},
          "execution_count": 6
        }
      ]
    },
    {
      "cell_type": "code",
      "source": [
        "file_list = os.listdir() # check amount of files in folder\n",
        "print(len(file_list))"
      ],
      "metadata": {
        "colab": {
          "base_uri": "https://localhost:8080/"
        },
        "id": "c7obgn9C9Ike",
        "outputId": "01b698b9-69f3-4651-9864-9322a7f01cff"
      },
      "execution_count": null,
      "outputs": [
        {
          "output_type": "stream",
          "name": "stdout",
          "text": [
            "182\n"
          ]
        }
      ]
    },
    {
      "cell_type": "code",
      "source": [
        "import hashlib, os # find duplicates\n",
        "duplicates = []\n",
        "hash_keys = dict()\n",
        "for index, filename in  enumerate(os.listdir('.')):  #listdir('.') = current directory\n",
        "    if os.path.isfile(filename):\n",
        "        with open(filename, 'rb') as f:\n",
        "            filehash = hashlib.md5(f.read()).hexdigest()\n",
        "        if filehash not in hash_keys: \n",
        "            hash_keys[filehash] = index\n",
        "        else:\n",
        "            duplicates.append((index,hash_keys[filehash]))"
      ],
      "metadata": {
        "id": "8QE0E6sP9K0Y"
      },
      "execution_count": null,
      "outputs": []
    },
    {
      "cell_type": "code",
      "source": [
        "duplicates # check if there is duplicates or not"
      ],
      "metadata": {
        "colab": {
          "base_uri": "https://localhost:8080/"
        },
        "id": "7beq7ODi9NFk",
        "outputId": "46652c85-eb68-4bbd-902f-a2b5648cf1d4"
      },
      "execution_count": null,
      "outputs": [
        {
          "output_type": "execute_result",
          "data": {
            "text/plain": [
              "[]"
            ]
          },
          "metadata": {},
          "execution_count": 181
        }
      ]
    },
    {
      "cell_type": "code",
      "source": [
        "for file_indexes in duplicates[:30]: # if there is duplicates you can check the image that is duplicates\n",
        "    try:\n",
        "    \n",
        "        plt.subplot(121),plt.imshow(Image.open(file_list[file_indexes[1]]))\n",
        "        plt.title(file_indexes[1]), plt.xticks([]), plt.yticks([])\n",
        "\n",
        "        plt.subplot(122),plt.imshow(Image.open(file_list[file_indexes[0]]))\n",
        "        plt.title(str(file_indexes[0]) + ' duplicate'), plt.xticks([]), plt.yticks([])\n",
        "        plt.show()\n",
        "    \n",
        "    except OSError as e:\n",
        "        continue"
      ],
      "metadata": {
        "id": "8a12avXa9Op7"
      },
      "execution_count": null,
      "outputs": []
    },
    {
      "cell_type": "code",
      "source": [
        "#delete function\n",
        "for index in duplicates:\n",
        "    os.remove(file_list[index[0]])"
      ],
      "metadata": {
        "id": "Vib9wbCY9Q6G"
      },
      "execution_count": null,
      "outputs": []
    }
  ]
}