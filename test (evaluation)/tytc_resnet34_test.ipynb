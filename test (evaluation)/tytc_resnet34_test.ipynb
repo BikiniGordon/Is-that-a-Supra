{
  "nbformat": 4,
  "nbformat_minor": 0,
  "metadata": {
    "colab": {
      "name": "tytc_resnet34_test.ipynb",
      "provenance": []
    },
    "kernelspec": {
      "name": "python3",
      "display_name": "Python 3"
    },
    "language_info": {
      "name": "python"
    }
  },
  "cells": [
    {
      "cell_type": "markdown",
      "source": [
        "# This is a source code that use to test and evaluate \"Is that a Supra?!\" model\n",
        "\n"
      ],
      "metadata": {
        "id": "fc6yT6z6m3Ai"
      }
    },
    {
      "cell_type": "code",
      "execution_count": null,
      "metadata": {
        "id": "p4gJKAsJgBEx"
      },
      "outputs": [],
      "source": [
        "!pip install -Uqq fastbook\n",
        "import fastbook\n",
        "fastbook.setup_book()"
      ]
    },
    {
      "cell_type": "code",
      "source": [
        "import os\n",
        "import sklearn"
      ],
      "metadata": {
        "id": "wQ9hLlIfndV1"
      },
      "execution_count": null,
      "outputs": []
    },
    {
      "cell_type": "code",
      "source": [
        "from fastbook import *\n",
        "from glob import glob\n",
        "from pathlib import Path\n",
        "from sklearn.metrics import precision_recall_fscore_support, accuracy_score, roc_auc_score, confusion_matrix, ConfusionMatrixDisplay, plot_confusion_matrix\n",
        "\n",
        "learn = load_learner(r\"MODEL PATH\")"
      ],
      "metadata": {
        "id": "kQJG3RnKm3Ww"
      },
      "execution_count": null,
      "outputs": []
    },
    {
      "cell_type": "code",
      "source": [
        "import matplotlib.pyplot as plt\n",
        "from sklearn.datasets import make_classification"
      ],
      "metadata": {
        "id": "M7JOOI0hm-7R"
      },
      "execution_count": null,
      "outputs": []
    },
    {
      "cell_type": "code",
      "source": [
        "path = ('TEST FOLDER PATH')"
      ],
      "metadata": {
        "id": "I6YpiN4tnx17"
      },
      "execution_count": null,
      "outputs": []
    },
    {
      "cell_type": "code",
      "source": [
        "#a, b ,c = learn.predict('IMAGE PATH') # for testing single image\n",
        "#a"
      ],
      "metadata": {
        "id": "oaNjD81UnCgL"
      },
      "execution_count": null,
      "outputs": []
    },
    {
      "cell_type": "code",
      "source": [
        "#pic_id = os.listdir(path) # for testing a whole folder\n",
        "\n",
        "#pred_label = []\n",
        "\n",
        "#for g in pic_id:\n",
        "  #pic_id_str = str(g)\n",
        "  #pic_path = os.path.join(path, pic_id_str)\n",
        "\n",
        "  #a, b ,c = learn.predict(pic_path)\n",
        "  #print(a)"
      ],
      "metadata": {
        "id": "gMRCXGlxn96F"
      },
      "execution_count": null,
      "outputs": []
    },
    {
      "cell_type": "code",
      "source": [
        "fields_test = DataBlock( # set datablock\n",
        "    blocks=(ImageBlock, CategoryBlock),\n",
        "    get_items=get_image_files,\n",
        "    get_y=parent_label,\n",
        "    item_tfms=RandomResizedCrop(224, min_scale=0.5),\n",
        ")"
      ],
      "metadata": {
        "id": "4DKtZX6unro6"
      },
      "execution_count": null,
      "outputs": []
    },
    {
      "cell_type": "code",
      "source": [
        "label_test = get_image_files(path) # get image file in folder"
      ],
      "metadata": {
        "id": "6ed2FiiFn5ZF"
      },
      "execution_count": null,
      "outputs": []
    },
    {
      "cell_type": "code",
      "source": [
        "dls_test = fields_test.dataloaders(path) # set test dataloader"
      ],
      "metadata": {
        "id": "z7G0DFr0oKSR"
      },
      "execution_count": null,
      "outputs": []
    },
    {
      "cell_type": "code",
      "source": [
        "dls_test.vocab # check all classes"
      ],
      "metadata": {
        "id": "dvMcShW8oOE9"
      },
      "execution_count": null,
      "outputs": []
    },
    {
      "cell_type": "code",
      "source": [
        "dls_test.show_batch(max_n=8, nrows=2) # show batch"
      ],
      "metadata": {
        "id": "XWJOlqTMoQCB"
      },
      "execution_count": null,
      "outputs": []
    },
    {
      "cell_type": "code",
      "source": [
        "test_dl = dls_test.test_dl(label_test, with_labels=True) # set test dataloader with label"
      ],
      "metadata": {
        "id": "_8SRGf9OoSEc"
      },
      "execution_count": null,
      "outputs": []
    },
    {
      "cell_type": "code",
      "source": [
        "preds, y = learn.get_preds(dl=test_dl) # get predictions and possibility\n",
        "learn_val = learn.validate(dl=test_dl) # get accuracy"
      ],
      "metadata": {
        "id": "KNkI9saGoXbp"
      },
      "execution_count": null,
      "outputs": []
    },
    {
      "cell_type": "code",
      "source": [
        "pred_max = np.argmax(preds.numpy(), axis=1) # tranform preds to numpy and adjust it"
      ],
      "metadata": {
        "id": "UWAGshwUocyQ"
      },
      "execution_count": null,
      "outputs": []
    },
    {
      "cell_type": "code",
      "source": [
        "y_nump = y.numpy() # turn y(possibility) to numpy"
      ],
      "metadata": {
        "id": "cp7inA-wodbL"
      },
      "execution_count": null,
      "outputs": []
    },
    {
      "cell_type": "code",
      "source": [
        "cm = confusion_matrix(y_nump, pred_max, normalize='true', labels=[0, 1, 2, 3, 4, 5, 6, 7, 8, 9, 10, 11, 12, 13, 14, 15, 16, 17, 18, 19, 20, 21, 22, 23, 24, 25, 26, 27, 28, 29, 30, 31, 32])\n",
        "disp = ConfusionMatrixDisplay(confusion_matrix=cm,  \n",
        "                              display_labels=['4runner', 'alphard',\t'avanza',\t'avensis',\t'aygo',\t'camry',\t'celica',\t'corolla',\t'corona',\t'crown',\t'estima', 'estios',\t'fortuner',\t'hiace',\t'highlander',\t'hilux',\t'innova',\t'iq',\t'matrix',\t'mirai',\t'prius',\t'rav4',\t'rush',\t'sequoia',\t'sienna', 'soarer',\t'starlet',\t'supra',\t'tacoma',\t'tundra',\t'venza',\t'vios', 'yaris'])\n",
        "\n",
        "\n",
        "fig, ax = plt.subplots(figsize=(20, 20))\n",
        "disp.plot(cmap=plt.cm.Blues, xticks_rotation='vertical', ax=ax) # plot a confusion matrix\n",
        "plt.show()"
      ],
      "metadata": {
        "id": "9ho_HMTDofSE"
      },
      "execution_count": null,
      "outputs": []
    },
    {
      "cell_type": "code",
      "source": [
        "acc = accuracy(preds, y)\n",
        "acc # check the accuracy"
      ],
      "metadata": {
        "id": "bOAgh14uollu"
      },
      "execution_count": null,
      "outputs": []
    }
  ]
}